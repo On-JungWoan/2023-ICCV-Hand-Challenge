{
 "cells": [
  {
   "cell_type": "code",
   "execution_count": null,
   "metadata": {},
   "outputs": [],
   "source": [
    "import trimesh\n",
    "import os\n",
    "import torch\n",
    "import pickle\n",
    "import numpy as np\n",
    "\n",
    "obj2idx = {\n",
    "\"book\" : 1,\n",
    "\"espresso\" : 2,\n",
    "\"lotion\" : 3,\n",
    "\"lotion_spray\" : 4,\n",
    "\"milk\" : 5,\n",
    "\"cocoa\" : 6,\n",
    "\"chips\" : 7,\n",
    "\"cappuccino\" : 8,\n",
    "}\n",
    "idx2obj = {v:k for k, v in obj2idx.items()}\n",
    "\n",
    "sample_points = 2000\n",
    "obj_path = {k : os.path.join('/HDD/hoseong/H2O', 'object', v, f'{v}.obj') for k, v in idx2obj.items()}\n",
    "obj_info = {k : trimesh.load(path) for k, path in obj_path.items()}\n",
    "obj_info = {k : trimesh.Trimesh(obj.vertices, obj.faces) for k, obj in obj_info.items()}\n",
    "obj_vertices = {k: trimesh.sample.sample_surface(obj, sample_points)[0]  for k, obj in obj_info.items()}\n",
    "gt_3D_bbox = {}\n",
    "for i in range(8):\n",
    "    with open(f'/HDD/hoseong/H2O/subject3/h1/{i}/cam4/obj_pose/000000.txt', 'r') as f:\n",
    "        file = f.read().split(' ')\n",
    "        label = int(file[0])\n",
    "        gt_obj_pose = torch.Tensor(list(map(float, file[1:-1]))).reshape(21,3)\n",
    "    with open(f'/HDD/hoseong/H2O/subject3/h1/{i}/cam4/obj_pose_rt/000000.txt', 'r') as f:\n",
    "        gt_obj_rt = torch.Tensor(list(map(float, f.read().split(' ')[1:-1]))).reshape(4,4)\n",
    "    gt_obj_pose = torch.cat([gt_obj_pose, torch.ones(21,1)], dim=-1)\n",
    "    gt_obj_pose = torch.inverse(gt_obj_rt).matmul(gt_obj_pose.T).T[:,:-1]\n",
    "    gt_3D_bbox[label] = gt_obj_pose"
   ]
  },
  {
   "cell_type": "code",
   "execution_count": null,
   "metadata": {},
   "outputs": [],
   "source": [
    "for i in range(1,9):\n",
    "    with open(os.path.join('/HDD/hoseong/H2O', 'obj_pkl', f'{idx2obj[i]}_{sample_points}.pkl'), 'wb') as f:\n",
    "        pickle.dump(np.array(obj_vertices[i]), f)"
   ]
  }
 ],
 "metadata": {
  "kernelspec": {
   "display_name": "handetector",
   "language": "python",
   "name": "python3"
  },
  "language_info": {
   "name": "python",
   "version": "3.8.13 (default, Mar 28 2022, 11:38:47) \n[GCC 7.5.0]"
  },
  "orig_nbformat": 4,
  "vscode": {
   "interpreter": {
    "hash": "65dad6fa0cc1cb61f4c696d0542d38077bbd0b9533f6a9c76435410e13cdb1f3"
   }
  }
 },
 "nbformat": 4,
 "nbformat_minor": 2
}
